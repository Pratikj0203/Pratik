{
  "nbformat": 4,
  "nbformat_minor": 0,
  "metadata": {
    "colab": {
      "name": "Untitled2.ipynb",
      "provenance": [],
      "authorship_tag": "ABX9TyOBxWVAmq2XWSQ1o/pYbyKl",
      "include_colab_link": true
    },
    "kernelspec": {
      "name": "python3",
      "display_name": "Python 3"
    }
  },
  "cells": [
    {
      "cell_type": "markdown",
      "metadata": {
        "id": "view-in-github",
        "colab_type": "text"
      },
      "source": [
        "<a href=\"https://colab.research.google.com/github/Pratikj0203/Pratik/blob/master/Prediction%20using%20Unsupervised%20Machine%20Learning.ipynb\" target=\"_parent\"><img src=\"https://colab.research.google.com/assets/colab-badge.svg\" alt=\"Open In Colab\"/></a>"
      ]
    },
    {
      "cell_type": "markdown",
      "metadata": {
        "id": "YyPqqzI-h0RD"
      },
      "source": [
        "**Task 2:Prediction using Unsupervised Machine Learning**\n",
        "\n",
        "**Name : PRATIK JADHAV**\n",
        "\n",
        "**Objective : From the given 'IRIS' dataset predict the optimum number of clusters and represent it visually**"
      ]
    },
    {
      "cell_type": "code",
      "metadata": {
        "id": "fhl4Sb1He2ED"
      },
      "source": [
        " # importing required libraries\n",
        "import pandas as pd\n",
        "import numpy as np\n",
        "import matplotlib.pyplot as plt\n",
        "%matplotlib inline"
      ],
      "execution_count": null,
      "outputs": []
    },
    {
      "cell_type": "code",
      "metadata": {
        "id": "AzD3I9YZfEjF",
        "outputId": "106d0534-ecad-4368-d72e-4711e0baefac",
        "colab": {
          "base_uri": "https://localhost:8080/",
          "height": 221
        }
      },
      "source": [
        " # import dataset from remote location\n",
        "u = 'http://bit.ly/w-data'\n",
        "s_df = pd.read_csv(u)\n",
        "print('Data Successfully imported')\n",
        "#Print the first 5 records\n",
        "s_df.head()"
      ],
      "execution_count": null,
      "outputs": [
        {
          "output_type": "stream",
          "text": [
            "Data Successfully imported\n"
          ],
          "name": "stdout"
        },
        {
          "output_type": "execute_result",
          "data": {
            "text/html": [
              "<div>\n",
              "<style scoped>\n",
              "    .dataframe tbody tr th:only-of-type {\n",
              "        vertical-align: middle;\n",
              "    }\n",
              "\n",
              "    .dataframe tbody tr th {\n",
              "        vertical-align: top;\n",
              "    }\n",
              "\n",
              "    .dataframe thead th {\n",
              "        text-align: right;\n",
              "    }\n",
              "</style>\n",
              "<table border=\"1\" class=\"dataframe\">\n",
              "  <thead>\n",
              "    <tr style=\"text-align: right;\">\n",
              "      <th></th>\n",
              "      <th>Hours</th>\n",
              "      <th>Scores</th>\n",
              "    </tr>\n",
              "  </thead>\n",
              "  <tbody>\n",
              "    <tr>\n",
              "      <th>0</th>\n",
              "      <td>2.5</td>\n",
              "      <td>21</td>\n",
              "    </tr>\n",
              "    <tr>\n",
              "      <th>1</th>\n",
              "      <td>5.1</td>\n",
              "      <td>47</td>\n",
              "    </tr>\n",
              "    <tr>\n",
              "      <th>2</th>\n",
              "      <td>3.2</td>\n",
              "      <td>27</td>\n",
              "    </tr>\n",
              "    <tr>\n",
              "      <th>3</th>\n",
              "      <td>8.5</td>\n",
              "      <td>75</td>\n",
              "    </tr>\n",
              "    <tr>\n",
              "      <th>4</th>\n",
              "      <td>3.5</td>\n",
              "      <td>30</td>\n",
              "    </tr>\n",
              "  </tbody>\n",
              "</table>\n",
              "</div>"
            ],
            "text/plain": [
              "   Hours  Scores\n",
              "0    2.5      21\n",
              "1    5.1      47\n",
              "2    3.2      27\n",
              "3    8.5      75\n",
              "4    3.5      30"
            ]
          },
          "metadata": {
            "tags": []
          },
          "execution_count": 2
        }
      ]
    },
    {
      "cell_type": "markdown",
      "metadata": {
        "id": "OcCXPK3WjymT"
      },
      "source": [
        "Representation of statical Data"
      ]
    },
    {
      "cell_type": "code",
      "metadata": {
        "id": "Ti4B1tHafcfi"
      },
      "source": [
        "s_df.info()"
      ],
      "execution_count": null,
      "outputs": []
    },
    {
      "cell_type": "markdown",
      "metadata": {
        "id": "U-MrqyjplA8i"
      },
      "source": [
        "**Visualizing Data**"
      ]
    },
    {
      "cell_type": "code",
      "metadata": {
        "id": "4Lm_VBXvfe5k",
        "outputId": "7d4ccb80-c27f-4c55-a0c5-cecd13c6daa8",
        "colab": {
          "base_uri": "https://localhost:8080/",
          "height": 218
        }
      },
      "source": [
        " s_df.plot(x='Hours',y='Scores',style='o')\n",
        "plt.ylabel('Scores->',fontsize=15)\n",
        "plt.xlabel('Hours->',fontsize=15)\n",
        "plt.title('Hours Vs Scores',fontsize=20)\n",
        "plt.grid()\n",
        "plt.show()"
      ],
      "execution_count": null,
      "outputs": [
        {
          "output_type": "display_data",
          "data": {
            "image/png": "[encoded data removed]",
            "text/plain": [
              "<Figure size 432x288 with 1 Axes>"
            ]
          },
          "metadata": {
            "tags": [],
            "needs_background": "light"
          }
        }
      ]
    },
    {
      "cell_type": "markdown",
      "metadata": {
        "id": "0rZ3MhKxlW9B"
      },
      "source": [
        "**Preparing Data and Spliting into trains and sets**"
      ]
    },
    {
      "cell_type": "code",
      "metadata": {
        "id": "ZJqDlGpWfwlq"
      },
      "source": [
        " #divide the data into input and output features\n",
        "X = s_df.iloc[:,:-1].values\n",
        "y = s_df.iloc[:,1].values"
      ],
      "execution_count": null,
      "outputs": []
    },
    {
      "cell_type": "code",
      "metadata": {
        "id": "UviTBbSgf4Op"
      },
      "source": [
        " from sklearn.model_selection import train_test_split\n",
        "X_train, X_test, y_train, y_test = train_test_split(X, y, test_size=0.2, random_state=0)"
      ],
      "execution_count": null,
      "outputs": []
    },
    {
      "cell_type": "markdown",
      "metadata": {
        "id": "3ykc6cejl89r"
      },
      "source": [
        "**Training Model**"
      ]
    },
    {
      "cell_type": "code",
      "metadata": {
        "id": "htfGmj6tf6i9",
        "outputId": "4abefde7-84e0-4528-b282-0953780c9ad4",
        "colab": {
          "base_uri": "https://localhost:8080/",
          "height": 34
        }
      },
      "source": [
        "from sklearn.linear_model import LinearRegression\n",
        "linear_model = LinearRegression()\n",
        "linear_model.fit(X_train, y_train)\n",
        "print('Model Trained Successfully')"
      ],
      "execution_count": null,
      "outputs": [
        {
          "output_type": "stream",
          "text": [
            "Model Trained Successfully\n"
          ],
          "name": "stdout"
        }
      ]
    },
    {
      "cell_type": "code",
      "metadata": {
        "id": "ZEpN6NckgMwx",
        "outputId": "713dbf46-fa7e-4dc0-c30d-4c67ba9dfa1f",
        "colab": {
          "base_uri": "https://localhost:8080/",
          "height": 218
        }
      },
      "source": [
        " line = linear_model.coef_ * X + linear_model.intercept_\n",
        "plt.scatter(X,y,color='red')\n",
        "plt.plot(X,line)\n",
        "plt.grid()\n",
        "plt.ylabel('Scores->',fontsize=15)\n",
        "plt.xlabel('Hours->',fontsize=15)\n",
        "plt.title('Regression Line',fontsize=20)\n",
        "plt.show()"
      ],
      "execution_count": null,
      "outputs": [
        {
          "output_type": "display_data",
          "data": {
            "image/png": "[encoded data removed]",
            "text/plain": [
              "<Figure size 432x288 with 1 Axes>"
            ]
          },
          "metadata": {
            "tags": [],
            "needs_background": "light"
          }
        }
      ]
    },
    {
      "cell_type": "code",
      "metadata": {
        "id": "zfYeB_A6gWc7",
        "outputId": "68ff9add-27bc-4473-f36f-dad9ea123451",
        "colab": {
          "base_uri": "https://localhost:8080/",
          "height": 150
        }
      },
      "source": [
        " fig, axes = plt.subplots(1,2,figsize=(8,4))\n",
        "#Training Set\n",
        " \n",
        "axes[0].plot(X,line)\n",
        "axes[0].scatter(X_train,y_train,color='red')\n",
        "axes[0].grid()\n",
        "axes[0].set_xlabel('Hours->',fontsize=15)\n",
        "axes[0].set_ylabel('Scores->',fontsize=15)\n",
        "axes[0].set_title('Training Set',fontsize=20)\n",
        " \n",
        "#Testing Set\n",
        " \n",
        "axes[1].plot(X,line)\n",
        "axes[1].scatter(X_test,y_test,color='red')\n",
        "axes[1].grid()\n",
        "axes[1].set_xlabel('Hours->',fontsize=15)\n",
        "axes[1].set_ylabel('Scores->',fontsize=15)\n",
        "axes[1].set_title('Testing Set',fontsize=20)\n",
        "fig.tight_layout()"
      ],
      "execution_count": null,
      "outputs": [
        {
          "output_type": "display_data",
          "data": {
            "image/png": "[encoded data removed]",
            "text/plain": [
              "<Figure size 576x288 with 2 Axes>"
            ]
          },
          "metadata": {
            "tags": [],
            "needs_background": "light"
          }
        }
      ]
    },
    {
      "cell_type": "markdown",
      "metadata": {
        "id": "RTyhMybfmi7O"
      },
      "source": [
        "**Making Predictions**"
      ]
    },
    {
      "cell_type": "code",
      "metadata": {
        "id": "aYPHTfdPgf0d",
        "outputId": "e1fcb4b2-6f24-4b80-f22d-9b3ad6a4e388",
        "colab": {
          "base_uri": "https://localhost:8080/",
          "height": 102
        }
      },
      "source": [
        " print(X_test) # Test data - In Hours\n",
        "y_pred = linear_model.predict(X_test) # Predicting the scores"
      ],
      "execution_count": null,
      "outputs": [
        {
          "output_type": "stream",
          "text": [
            "[[1.5]\n",
            " [3.2]\n",
            " [7.4]\n",
            " [2.5]\n",
            " [5.9]]\n"
          ],
          "name": "stdout"
        }
      ]
    },
    {
      "cell_type": "code",
      "metadata": {
        "id": "jih6P_QMgmLr",
        "outputId": "fb8cd381-022f-43af-96ea-06f390f546a0",
        "colab": {
          "base_uri": "https://localhost:8080/",
          "height": 54
        }
      },
      "source": [
        " print(y_pred)  # Predicted scores"
      ],
      "execution_count": null,
      "outputs": [
        {
          "output_type": "stream",
          "text": [
            "[16.88414476 33.73226078 75.357018   26.79480124 60.49103328]\n"
          ],
          "name": "stdout"
        }
      ]
    },
    {
      "cell_type": "markdown",
      "metadata": {
        "id": "njldw9tLm2Sm"
      },
      "source": [
        "**Comparing Actual vs  Predicted Scores**"
      ]
    },
    {
      "cell_type": "code",
      "metadata": {
        "id": "zbBl1MVUgri8",
        "outputId": "7a503e29-be16-4177-ab2a-0388907a3642",
        "colab": {
          "base_uri": "https://localhost:8080/",
          "height": 204
        }
      },
      "source": [
        " pred_df = pd.DataFrame({'Actual': y_test, 'Predicted': y_pred}) #Creating dataframe \n",
        "pred_df"
      ],
      "execution_count": null,
      "outputs": [
        {
          "output_type": "execute_result",
          "data": {
            "text/html": [
              "<div>\n",
              "<style scoped>\n",
              "    .dataframe tbody tr th:only-of-type {\n",
              "        vertical-align: middle;\n",
              "    }\n",
              "\n",
              "    .dataframe tbody tr th {\n",
              "        vertical-align: top;\n",
              "    }\n",
              "\n",
              "    .dataframe thead th {\n",
              "        text-align: right;\n",
              "    }\n",
              "</style>\n",
              "<table border=\"1\" class=\"dataframe\">\n",
              "  <thead>\n",
              "    <tr style=\"text-align: right;\">\n",
              "      <th></th>\n",
              "      <th>Actual</th>\n",
              "      <th>Predicted</th>\n",
              "    </tr>\n",
              "  </thead>\n",
              "  <tbody>\n",
              "    <tr>\n",
              "      <th>0</th>\n",
              "      <td>20</td>\n",
              "      <td>16.884145</td>\n",
              "    </tr>\n",
              "    <tr>\n",
              "      <th>1</th>\n",
              "      <td>27</td>\n",
              "      <td>33.732261</td>\n",
              "    </tr>\n",
              "    <tr>\n",
              "      <th>2</th>\n",
              "      <td>69</td>\n",
              "      <td>75.357018</td>\n",
              "    </tr>\n",
              "    <tr>\n",
              "      <th>3</th>\n",
              "      <td>30</td>\n",
              "      <td>26.794801</td>\n",
              "    </tr>\n",
              "    <tr>\n",
              "      <th>4</th>\n",
              "      <td>62</td>\n",
              "      <td>60.491033</td>\n",
              "    </tr>\n",
              "  </tbody>\n",
              "</table>\n",
              "</div>"
            ],
            "text/plain": [
              "   Actual  Predicted\n",
              "0      20  16.884145\n",
              "1      27  33.732261\n",
              "2      69  75.357018\n",
              "3      30  26.794801\n",
              "4      62  60.491033"
            ]
          },
          "metadata": {
            "tags": []
          },
          "execution_count": 12
        }
      ]
    },
    {
      "cell_type": "markdown",
      "metadata": {
        "id": "Gh0nT3xEnSo7"
      },
      "source": [
        "**Visualizing Actual vs Predicted values**"
      ]
    },
    {
      "cell_type": "code",
      "metadata": {
        "id": "Qgv6IjKkgzu9",
        "outputId": "2170fe2a-f9c0-42c7-af74-dd10dafb05e4",
        "colab": {
          "base_uri": "https://localhost:8080/",
          "height": 233
        }
      },
      "source": [
        " pred_df.plot(kind='bar')\n",
        "plt.title('Actual Vs Predicted',fontsize=20)\n",
        "plt.xlabel('Hours->',fontsize=15)\n",
        "plt.ylabel('Scores->',fontsize=15)\n",
        "plt.plot()"
      ],
      "execution_count": null,
      "outputs": [
        {
          "output_type": "execute_result",
          "data": {
            "text/plain": [
              "[]"
            ]
          },
          "metadata": {
            "tags": []
          },
          "execution_count": 13
        },
        {
          "output_type": "display_data",
          "data": {
            "image/png": "[encoded data removed]",
            "text/plain": [
              "<Figure size 432x288 with 1 Axes>"
            ]
          },
          "metadata": {
            "tags": [],
            "needs_background": "light"
          }
        }
      ]
    },
    {
      "cell_type": "code",
      "metadata": {
        "id": "HlHX_Yqvg5qo",
        "outputId": "c3281704-b7c1-416c-9efd-f5bf33df88d9",
        "colab": {
          "base_uri": "https://localhost:8080/",
          "height": 51
        }
      },
      "source": [
        " hours = 9.25\n",
        "own_pred = linear_model.predict([[hours]])\n",
        "print(\"No of Hours : %f\" %hours)\n",
        "print(\"Predicted Score : %f\" %own_pred)"
      ],
      "execution_count": null,
      "outputs": [
        {
          "output_type": "stream",
          "text": [
            "No of Hours : 9.250000\n",
            "Predicted Score : 93.691732\n"
          ],
          "name": "stdout"
        }
      ]
    },
    {
      "cell_type": "markdown",
      "metadata": {
        "id": "6l5scCSKneAr"
      },
      "source": [
        "**Predicting Accuracy score for linear model**"
      ]
    },
    {
      "cell_type": "code",
      "metadata": {
        "id": "2B66YSmyhDm3",
        "outputId": "0b892b08-d032-436e-d9cd-61071270e45c",
        "colab": {
          "base_uri": "https://localhost:8080/",
          "height": 34
        }
      },
      "source": [
        " linear_model.score(X_train, y_train)  #Accuracy for training data"
      ],
      "execution_count": null,
      "outputs": [
        {
          "output_type": "execute_result",
          "data": {
            "text/plain": [
              "0.9515510725211553"
            ]
          },
          "metadata": {
            "tags": []
          },
          "execution_count": 15
        }
      ]
    },
    {
      "cell_type": "code",
      "metadata": {
        "id": "WW7Mk6TrhIxc",
        "outputId": "aa3456a0-70df-4ff5-96ac-6ba08125d99e",
        "colab": {
          "base_uri": "https://localhost:8080/",
          "height": 34
        }
      },
      "source": [
        " linear_model.score(X_test, y_test)  #Accuracy for testing data"
      ],
      "execution_count": null,
      "outputs": [
        {
          "output_type": "execute_result",
          "data": {
            "text/plain": [
              "0.9454906892105354"
            ]
          },
          "metadata": {
            "tags": []
          },
          "execution_count": 16
        }
      ]
    },
    {
      "cell_type": "markdown",
      "metadata": {
        "id": "7awoDJ-PoBlJ"
      },
      "source": [
        "**Evaluating the Model**"
      ]
    },
    {
      "cell_type": "code",
      "metadata": {
        "id": "w3nEEQLphO0e",
        "outputId": "103d74a1-bad9-42a7-e247-6c2958bc4762",
        "colab": {
          "base_uri": "https://localhost:8080/",
          "height": 54
        }
      },
      "source": [
        " from sklearn import metrics  \n",
        "print('Mean Absolute Error:', \n",
        "      metrics.mean_absolute_error(y_test, y_pred))"
      ],
      "execution_count": null,
      "outputs": [
        {
          "output_type": "stream",
          "text": [
            "Mean Absolute Error: 4.183859899002982\n"
          ],
          "name": "stdout"
        }
      ]
    },
    {
      "cell_type": "code",
      "metadata": {
        "id": "Gg6tktyOhVTu",
        "outputId": "c0c9aa0f-3380-43dd-e614-d38db04b7cc4",
        "colab": {
          "base_uri": "https://localhost:8080/",
          "height": 54
        }
      },
      "source": [
        " print('Root Mean Squared Error:', np.sqrt(metrics.mean_squared_error(y_test, y_pred)))"
      ],
      "execution_count": null,
      "outputs": [
        {
          "output_type": "stream",
          "text": [
            "Root Mean Squared Error: 4.647447612100373\n"
          ],
          "name": "stdout"
        }
      ]
    }
  ]
}
